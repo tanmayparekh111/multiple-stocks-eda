{
 "cells": [
  {
   "cell_type": "code",
   "execution_count": 25,
   "metadata": {},
   "outputs": [
    {
     "name": "stderr",
     "output_type": "stream",
     "text": [
      "C:\\Users\\dev33\\AppData\\Local\\Temp\\ipykernel_8852\\269593429.py:13: SettingWithCopyWarning: \n",
      "A value is trying to be set on a copy of a slice from a DataFrame\n",
      "\n",
      "See the caveats in the documentation: https://pandas.pydata.org/pandas-docs/stable/user_guide/indexing.html#returning-a-view-versus-a-copy\n",
      "  df[\"Final\"].iloc[i] = int(1)\n",
      "C:\\Users\\dev33\\AppData\\Local\\Temp\\ipykernel_8852\\269593429.py:15: SettingWithCopyWarning: \n",
      "A value is trying to be set on a copy of a slice from a DataFrame\n",
      "\n",
      "See the caveats in the documentation: https://pandas.pydata.org/pandas-docs/stable/user_guide/indexing.html#returning-a-view-versus-a-copy\n",
      "  df[\"Final\"].iloc[i] = int(0)\n"
     ]
    }
   ],
   "source": [
    "import pandas as pd\n",
    "import numpy as np\n",
    "import traceback\n",
    "import math\n",
    "from itertools import combinations\n",
    "df = pd.read_csv(\"TATACONSUM.csv\")\n",
    "\n",
    "\n",
    "# adding 0,1 according to win loose for final result\n",
    "df[\"Final\"] = np.nan\n",
    "for i in range(len(df)):\n",
    "    if df[\"Real\"].iloc[i] == \"WON\":\n",
    "        df[\"Final\"].iloc[i] = int(1)\n",
    "    else:\n",
    "        df[\"Final\"].iloc[i] = int(0)\n",
    "\n",
    "# creating dataframe for final result"
   ]
  },
  {
   "cell_type": "code",
   "execution_count": 26,
   "metadata": {},
   "outputs": [
    {
     "data": {
      "text/plain": [
       "-0.23381559789808457"
      ]
     },
     "execution_count": 26,
     "metadata": {},
     "output_type": "execute_result"
    }
   ],
   "source": [
    "# finding co-car on main df\n",
    "\n",
    "df_Won = df[df[\"Real\"] == \"WON\"]\n",
    "wonl = list(df_Won[\"abc\"].to_list())\n",
    "\n",
    "df_Loose = df[df[\"Real\"] == \"Loose\"]\n",
    "loosel = list(df_Loose[\"abc\"].to_list())\n",
    "\n",
    "c = zip(wonl, loosel)\n",
    "Finaldf = pd.DataFrame()\n",
    "won = []\n",
    "loose = []\n",
    "for ele in c:\n",
    "    won.append(ele[0])\n",
    "    loose.append(ele[1])\n",
    "\n",
    "Finaldf['won'] = won\n",
    "Finaldf['loose'] = loose\n",
    "cor = Finaldf['loose'].corr(Finaldf['won'])\n",
    "\n",
    "cor"
   ]
  },
  {
   "cell_type": "code",
   "execution_count": 27,
   "metadata": {},
   "outputs": [
    {
     "name": "stdout",
     "output_type": "stream",
     "text": [
      "10153\n"
     ]
    },
    {
     "data": {
      "text/plain": [
       "10153"
      ]
     },
     "execution_count": 27,
     "metadata": {},
     "output_type": "execute_result"
    }
   ],
   "source": [
    "# finding possible combinations\n",
    "\n",
    "# find the min max values\n",
    "minval = min(df['abc'])\n",
    "maxval = max(df['abc'])\n",
    "\n",
    "# setting up to int in a way by which any obs won't missed out\n",
    "minval = math.floor(minval)-1\n",
    "maxval = math.ceil(maxval)+1\n",
    "\n",
    "# making a list which will use in finding possible combinations, and remove duplicates if it consists it in possible combinations.\n",
    "Range = numbers = np.arange(minval, maxval+1, 1)\n",
    "ComboRange = list(combinations(Range, 2))\n",
    "ComboRange = list(set(ComboRange))\n",
    "print(len(ComboRange))\n",
    "\n",
    "# Filter out tuples where the first element is greater than the second\n",
    "ComboRange = [t for t in ComboRange if t[0] <= t[1]]\n",
    "len(ComboRange)"
   ]
  },
  {
   "cell_type": "code",
   "execution_count": 28,
   "metadata": {},
   "outputs": [],
   "source": [
    "list1 = ComboRange\n",
    "list2 = list(df['abc'].to_list())\n",
    "list3 = list(df['Final'].to_list())\n",
    "\n",
    "# range and its digits\n",
    "dict1 = {}\n",
    "\n",
    "# 1,0,0,1\n",
    "dict2 = {}\n",
    "\n",
    "# final dict\n",
    "dict3 = {}\n",
    "\n",
    "for i, range_ in enumerate(list1):\n",
    "    dict1[range_] = []\n",
    "    dict2[range_] = []\n",
    "    for j, value in enumerate(list2):\n",
    "        if value >= range_[0] and value < range_[1]:\n",
    "            dict1[range_].append(value)\n",
    "            dict2[range_].append(list3[j])\n",
    "\n",
    "for i, ele in enumerate(dict2):\n",
    "    try:\n",
    "        nobs = dict1[ele]\n",
    "        result = dict2[ele]\n",
    "        Total = len(result)\n",
    "        Count_1 = result.count(1)\n",
    "        ACC = Count_1*100/Total\n",
    "        dict3[ele] = {\"nobs\": nobs,\n",
    "                      \"result\": result,\n",
    "                      \"Total\": Total,\n",
    "                      \"Count_1\": Count_1,\n",
    "                      \"ACC\": ACC}\n",
    "    except:\n",
    "        continue"
   ]
  },
  {
   "cell_type": "code",
   "execution_count": 29,
   "metadata": {},
   "outputs": [
    {
     "name": "stdout",
     "output_type": "stream",
     "text": [
      "Fdict: {(-25, -12): {'Total': 53, 'Count_1': 27, 'ACC': 50.943396226415096}, (-24, -12): {'Total': 52, 'Count_1': 27, 'ACC': 51.92307692307692}}\n"
     ]
    }
   ],
   "source": [
    "\n",
    "# Create Fdict with key-value pairs from dict1 where 'Total' is less than 50\n",
    "Fdict = {k: v for k, v in dict3.items() if (\n",
    "    v['Total'] > 50) and (v['ACC'] > 50)}\n",
    "\n",
    "# Create Sdict with key-value pairs from dict1 where 'acc' is less than 50\n",
    "# Sdict = {k: v for k, v in dict3.items() if v['ACC'] > 50 and }\n",
    "\n",
    "for key in Fdict:\n",
    "    del Fdict[key][\"nobs\"]\n",
    "    del Fdict[key][\"result\"]\n",
    "print(\"Fdict:\", Fdict)"
   ]
  },
  {
   "cell_type": "code",
   "execution_count": 30,
   "metadata": {},
   "outputs": [
    {
     "data": {
      "text/plain": [
       "{'a': {'1': 1, '2': 2}, 'b': {'1': 1, '2': 2}, 'c': {'1': 1, '2': 2}}"
      ]
     },
     "execution_count": 30,
     "metadata": {},
     "output_type": "execute_result"
    }
   ],
   "source": [
    "dict5 = {\"a\": {\"1\": 1, \"2\": 2, \"3\": 3},\n",
    "         \"b\": {\"1\": 1, \"2\": 2, \"3\": 3},\n",
    "         \"c\": {\"1\": 1, \"2\": 2, \"3\": 3}}\n",
    "\n",
    "for key in dict5:\n",
    "    del dict5[key][\"3\"]\n",
    "\n",
    "dict5"
   ]
  },
  {
   "cell_type": "code",
   "execution_count": null,
   "metadata": {},
   "outputs": [],
   "source": []
  }
 ],
 "metadata": {
  "kernelspec": {
   "display_name": "Python 3",
   "language": "python",
   "name": "python3"
  },
  "language_info": {
   "codemirror_mode": {
    "name": "ipython",
    "version": 3
   },
   "file_extension": ".py",
   "mimetype": "text/x-python",
   "name": "python",
   "nbconvert_exporter": "python",
   "pygments_lexer": "ipython3",
   "version": "3.9.5"
  }
 },
 "nbformat": 4,
 "nbformat_minor": 2
}
