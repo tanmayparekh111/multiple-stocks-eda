{
 "cells": [
  {
   "cell_type": "code",
   "execution_count": 1,
   "id": "eddd4165",
   "metadata": {},
   "outputs": [],
   "source": [
    "import yfinance as yf\n",
    "import pandas as pd\n",
    "import numpy as np\n",
    "\n",
    "import matplotlib.pyplot as plt\n",
    "%matplotlib inline\n",
    "\n",
    "from matplotlib.pylab import rcParams\n",
    "rcParams['figure.figsize']=12,5\n",
    "\n",
    "from sklearn.preprocessing import MinMaxScaler\n",
    "scaler=MinMaxScaler(feature_range=(0,1))"
   ]
  },
  {
   "cell_type": "code",
   "execution_count": 2,
   "id": "f0fd7ac3",
   "metadata": {},
   "outputs": [
    {
     "name": "stdout",
     "output_type": "stream",
     "text": [
      "[*********************100%***********************]  1 of 1 completed\n"
     ]
    }
   ],
   "source": [
    "stock=yf.download('^NSEBANK',start='2017-08-8',end=\"2022-08-04\")"
   ]
  },
  {
   "cell_type": "code",
   "execution_count": 3,
   "id": "128025f8",
   "metadata": {},
   "outputs": [
    {
     "data": {
      "text/plain": [
       "(1227, 6)"
      ]
     },
     "execution_count": 3,
     "metadata": {},
     "output_type": "execute_result"
    }
   ],
   "source": [
    "stock.shape"
   ]
  },
  {
   "cell_type": "code",
   "execution_count": 4,
   "id": "c544fafc",
   "metadata": {},
   "outputs": [
    {
     "data": {
      "text/html": [
       "<div>\n",
       "<style scoped>\n",
       "    .dataframe tbody tr th:only-of-type {\n",
       "        vertical-align: middle;\n",
       "    }\n",
       "\n",
       "    .dataframe tbody tr th {\n",
       "        vertical-align: top;\n",
       "    }\n",
       "\n",
       "    .dataframe thead th {\n",
       "        text-align: right;\n",
       "    }\n",
       "</style>\n",
       "<table border=\"1\" class=\"dataframe\">\n",
       "  <thead>\n",
       "    <tr style=\"text-align: right;\">\n",
       "      <th></th>\n",
       "      <th>Date</th>\n",
       "      <th>Open</th>\n",
       "      <th>High</th>\n",
       "      <th>Low</th>\n",
       "      <th>Close</th>\n",
       "      <th>Adj Close</th>\n",
       "      <th>Volume</th>\n",
       "    </tr>\n",
       "  </thead>\n",
       "  <tbody>\n",
       "    <tr>\n",
       "      <th>1222</th>\n",
       "      <td>2022-07-28</td>\n",
       "      <td>37102.449219</td>\n",
       "      <td>37414.398438</td>\n",
       "      <td>37028.500000</td>\n",
       "      <td>37378.148438</td>\n",
       "      <td>37378.148438</td>\n",
       "      <td>172500</td>\n",
       "    </tr>\n",
       "    <tr>\n",
       "      <th>1223</th>\n",
       "      <td>2022-07-29</td>\n",
       "      <td>37717.300781</td>\n",
       "      <td>37754.648438</td>\n",
       "      <td>37221.148438</td>\n",
       "      <td>37491.398438</td>\n",
       "      <td>37491.398438</td>\n",
       "      <td>166900</td>\n",
       "    </tr>\n",
       "    <tr>\n",
       "      <th>1224</th>\n",
       "      <td>2022-08-01</td>\n",
       "      <td>37594.148438</td>\n",
       "      <td>37939.601562</td>\n",
       "      <td>37407.199219</td>\n",
       "      <td>37903.199219</td>\n",
       "      <td>37903.199219</td>\n",
       "      <td>346400</td>\n",
       "    </tr>\n",
       "    <tr>\n",
       "      <th>1225</th>\n",
       "      <td>2022-08-02</td>\n",
       "      <td>37767.699219</td>\n",
       "      <td>38179.851562</td>\n",
       "      <td>37632.300781</td>\n",
       "      <td>38024.000000</td>\n",
       "      <td>38024.000000</td>\n",
       "      <td>317300</td>\n",
       "    </tr>\n",
       "    <tr>\n",
       "      <th>1226</th>\n",
       "      <td>2022-08-03</td>\n",
       "      <td>37954.550781</td>\n",
       "      <td>38068.601562</td>\n",
       "      <td>37692.949219</td>\n",
       "      <td>37989.250000</td>\n",
       "      <td>37989.250000</td>\n",
       "      <td>200300</td>\n",
       "    </tr>\n",
       "  </tbody>\n",
       "</table>\n",
       "</div>"
      ],
      "text/plain": [
       "            Date          Open          High           Low         Close  \\\n",
       "1222  2022-07-28  37102.449219  37414.398438  37028.500000  37378.148438   \n",
       "1223  2022-07-29  37717.300781  37754.648438  37221.148438  37491.398438   \n",
       "1224  2022-08-01  37594.148438  37939.601562  37407.199219  37903.199219   \n",
       "1225  2022-08-02  37767.699219  38179.851562  37632.300781  38024.000000   \n",
       "1226  2022-08-03  37954.550781  38068.601562  37692.949219  37989.250000   \n",
       "\n",
       "         Adj Close  Volume  \n",
       "1222  37378.148438  172500  \n",
       "1223  37491.398438  166900  \n",
       "1224  37903.199219  346400  \n",
       "1225  38024.000000  317300  \n",
       "1226  37989.250000  200300  "
      ]
     },
     "execution_count": 4,
     "metadata": {},
     "output_type": "execute_result"
    }
   ],
   "source": [
    "stock.to_csv('SBIN.csv')\n",
    "df=pd.read_csv('SBIN.csv')\n",
    "df.reset_index\n",
    "df.tail()\n"
   ]
  },
  {
   "cell_type": "code",
   "execution_count": null,
   "id": "ee73998f",
   "metadata": {},
   "outputs": [],
   "source": []
  },
  {
   "cell_type": "code",
   "execution_count": 5,
   "id": "6ff366be",
   "metadata": {},
   "outputs": [
    {
     "data": {
      "text/html": [
       "<div>\n",
       "<style scoped>\n",
       "    .dataframe tbody tr th:only-of-type {\n",
       "        vertical-align: middle;\n",
       "    }\n",
       "\n",
       "    .dataframe tbody tr th {\n",
       "        vertical-align: top;\n",
       "    }\n",
       "\n",
       "    .dataframe thead th {\n",
       "        text-align: right;\n",
       "    }\n",
       "</style>\n",
       "<table border=\"1\" class=\"dataframe\">\n",
       "  <thead>\n",
       "    <tr style=\"text-align: right;\">\n",
       "      <th></th>\n",
       "      <th>Date</th>\n",
       "      <th>Open</th>\n",
       "      <th>High</th>\n",
       "      <th>Low</th>\n",
       "      <th>Close</th>\n",
       "      <th>Adj Close</th>\n",
       "      <th>Volume</th>\n",
       "    </tr>\n",
       "    <tr>\n",
       "      <th>Date</th>\n",
       "      <th></th>\n",
       "      <th></th>\n",
       "      <th></th>\n",
       "      <th></th>\n",
       "      <th></th>\n",
       "      <th></th>\n",
       "      <th></th>\n",
       "    </tr>\n",
       "  </thead>\n",
       "  <tbody>\n",
       "    <tr>\n",
       "      <th>2017-08-08</th>\n",
       "      <td>2017-08-08</td>\n",
       "      <td>24942.199219</td>\n",
       "      <td>24966.050781</td>\n",
       "      <td>24534.349609</td>\n",
       "      <td>24599.500000</td>\n",
       "      <td>24599.500000</td>\n",
       "      <td>0</td>\n",
       "    </tr>\n",
       "    <tr>\n",
       "      <th>2017-08-09</th>\n",
       "      <td>2017-08-09</td>\n",
       "      <td>24519.250000</td>\n",
       "      <td>24532.400391</td>\n",
       "      <td>24328.099609</td>\n",
       "      <td>24374.599609</td>\n",
       "      <td>24374.599609</td>\n",
       "      <td>0</td>\n",
       "    </tr>\n",
       "    <tr>\n",
       "      <th>2017-08-10</th>\n",
       "      <td>2017-08-10</td>\n",
       "      <td>24300.449219</td>\n",
       "      <td>24326.900391</td>\n",
       "      <td>23822.199219</td>\n",
       "      <td>24217.349609</td>\n",
       "      <td>24217.349609</td>\n",
       "      <td>0</td>\n",
       "    </tr>\n",
       "    <tr>\n",
       "      <th>2017-08-11</th>\n",
       "      <td>2017-08-11</td>\n",
       "      <td>23958.250000</td>\n",
       "      <td>24191.199219</td>\n",
       "      <td>23868.300781</td>\n",
       "      <td>23985.750000</td>\n",
       "      <td>23985.750000</td>\n",
       "      <td>0</td>\n",
       "    </tr>\n",
       "    <tr>\n",
       "      <th>2017-08-14</th>\n",
       "      <td>2017-08-14</td>\n",
       "      <td>24051.050781</td>\n",
       "      <td>24212.150391</td>\n",
       "      <td>24038.150391</td>\n",
       "      <td>24115.750000</td>\n",
       "      <td>24115.750000</td>\n",
       "      <td>0</td>\n",
       "    </tr>\n",
       "    <tr>\n",
       "      <th>...</th>\n",
       "      <td>...</td>\n",
       "      <td>...</td>\n",
       "      <td>...</td>\n",
       "      <td>...</td>\n",
       "      <td>...</td>\n",
       "      <td>...</td>\n",
       "      <td>...</td>\n",
       "    </tr>\n",
       "    <tr>\n",
       "      <th>2022-07-28</th>\n",
       "      <td>2022-07-28</td>\n",
       "      <td>37102.449219</td>\n",
       "      <td>37414.398438</td>\n",
       "      <td>37028.500000</td>\n",
       "      <td>37378.148438</td>\n",
       "      <td>37378.148438</td>\n",
       "      <td>172500</td>\n",
       "    </tr>\n",
       "    <tr>\n",
       "      <th>2022-07-29</th>\n",
       "      <td>2022-07-29</td>\n",
       "      <td>37717.300781</td>\n",
       "      <td>37754.648438</td>\n",
       "      <td>37221.148438</td>\n",
       "      <td>37491.398438</td>\n",
       "      <td>37491.398438</td>\n",
       "      <td>166900</td>\n",
       "    </tr>\n",
       "    <tr>\n",
       "      <th>2022-08-01</th>\n",
       "      <td>2022-08-01</td>\n",
       "      <td>37594.148438</td>\n",
       "      <td>37939.601562</td>\n",
       "      <td>37407.199219</td>\n",
       "      <td>37903.199219</td>\n",
       "      <td>37903.199219</td>\n",
       "      <td>346400</td>\n",
       "    </tr>\n",
       "    <tr>\n",
       "      <th>2022-08-02</th>\n",
       "      <td>2022-08-02</td>\n",
       "      <td>37767.699219</td>\n",
       "      <td>38179.851562</td>\n",
       "      <td>37632.300781</td>\n",
       "      <td>38024.000000</td>\n",
       "      <td>38024.000000</td>\n",
       "      <td>317300</td>\n",
       "    </tr>\n",
       "    <tr>\n",
       "      <th>2022-08-03</th>\n",
       "      <td>2022-08-03</td>\n",
       "      <td>37954.550781</td>\n",
       "      <td>38068.601562</td>\n",
       "      <td>37692.949219</td>\n",
       "      <td>37989.250000</td>\n",
       "      <td>37989.250000</td>\n",
       "      <td>200300</td>\n",
       "    </tr>\n",
       "  </tbody>\n",
       "</table>\n",
       "<p>1227 rows × 7 columns</p>\n",
       "</div>"
      ],
      "text/plain": [
       "                 Date          Open          High           Low         Close  \\\n",
       "Date                                                                            \n",
       "2017-08-08 2017-08-08  24942.199219  24966.050781  24534.349609  24599.500000   \n",
       "2017-08-09 2017-08-09  24519.250000  24532.400391  24328.099609  24374.599609   \n",
       "2017-08-10 2017-08-10  24300.449219  24326.900391  23822.199219  24217.349609   \n",
       "2017-08-11 2017-08-11  23958.250000  24191.199219  23868.300781  23985.750000   \n",
       "2017-08-14 2017-08-14  24051.050781  24212.150391  24038.150391  24115.750000   \n",
       "...               ...           ...           ...           ...           ...   \n",
       "2022-07-28 2022-07-28  37102.449219  37414.398438  37028.500000  37378.148438   \n",
       "2022-07-29 2022-07-29  37717.300781  37754.648438  37221.148438  37491.398438   \n",
       "2022-08-01 2022-08-01  37594.148438  37939.601562  37407.199219  37903.199219   \n",
       "2022-08-02 2022-08-02  37767.699219  38179.851562  37632.300781  38024.000000   \n",
       "2022-08-03 2022-08-03  37954.550781  38068.601562  37692.949219  37989.250000   \n",
       "\n",
       "               Adj Close  Volume  \n",
       "Date                              \n",
       "2017-08-08  24599.500000       0  \n",
       "2017-08-09  24374.599609       0  \n",
       "2017-08-10  24217.349609       0  \n",
       "2017-08-11  23985.750000       0  \n",
       "2017-08-14  24115.750000       0  \n",
       "...                  ...     ...  \n",
       "2022-07-28  37378.148438  172500  \n",
       "2022-07-29  37491.398438  166900  \n",
       "2022-08-01  37903.199219  346400  \n",
       "2022-08-02  38024.000000  317300  \n",
       "2022-08-03  37989.250000  200300  \n",
       "\n",
       "[1227 rows x 7 columns]"
      ]
     },
     "execution_count": 5,
     "metadata": {},
     "output_type": "execute_result"
    }
   ],
   "source": [
    "## here, i m changing date format to ---pd.to_datetime, and df index set as date\n",
    "\n",
    "df[\"Date\"]=pd.to_datetime(df.Date,format=\"%Y-%m-%d\")\n",
    "df.index=df['Date']\n",
    "\n",
    "df"
   ]
  },
  {
   "cell_type": "code",
   "execution_count": 6,
   "id": "21b6e02d",
   "metadata": {},
   "outputs": [
    {
     "data": {
      "text/plain": [
       "[<matplotlib.lines.Line2D at 0x1b3caad9e80>]"
      ]
     },
     "execution_count": 6,
     "metadata": {},
     "output_type": "execute_result"
    },
    {
     "data": {
      "image/png": "[encoded data removed]",
      "text/plain": [
       "<Figure size 864x360 with 1 Axes>"
      ]
     },
     "metadata": {
      "needs_background": "light"
     },
     "output_type": "display_data"
    }
   ],
   "source": [
    "plt.figure(figsize=(12,5))\n",
    "plt.plot(df[\"Close\"],label='Close Price history')"
   ]
  },
  {
   "cell_type": "code",
   "execution_count": 7,
   "id": "c8ed1b65",
   "metadata": {},
   "outputs": [],
   "source": [
    "from keras.models import Sequential\n",
    "from keras.layers import LSTM,Dropout,Dense\n"
   ]
  },
  {
   "cell_type": "code",
   "execution_count": 8,
   "id": "e5b6ed0a",
   "metadata": {},
   "outputs": [
    {
     "data": {
      "text/plain": [
       "(1227, 1)"
      ]
     },
     "execution_count": 8,
     "metadata": {},
     "output_type": "execute_result"
    }
   ],
   "source": [
    "# here, i am making a new df for model, including the date and close only.\n",
    "new_dataset=df[['Date','Close']].copy()\n",
    "new_dataset.drop('Date',axis=1,inplace=True)\n",
    "new_dataset=new_dataset.sort_index(ascending=True,axis=0)\n",
    "new_dataset.shape"
   ]
  },
  {
   "cell_type": "code",
   "execution_count": 9,
   "id": "097098c6",
   "metadata": {},
   "outputs": [],
   "source": [
    "#importing models \n",
    "from keras.models import Sequential\n",
    "from keras.layers import LSTM,Dropout,Dense"
   ]
  },
  {
   "cell_type": "code",
   "execution_count": 10,
   "id": "43a5769c",
   "metadata": {},
   "outputs": [
    {
     "data": {
      "text/plain": [
       "array([[24599.5       ],\n",
       "       [24374.59960938],\n",
       "       [24217.34960938],\n",
       "       ...,\n",
       "       [37903.19921875],\n",
       "       [38024.        ],\n",
       "       [37989.25      ]])"
      ]
     },
     "execution_count": 10,
     "metadata": {},
     "output_type": "execute_result"
    }
   ],
   "source": [
    "#copying values from newly created dataset\n",
    "final_dataset=new_dataset.values\n",
    "final_dataset"
   ]
  },
  {
   "cell_type": "code",
   "execution_count": 11,
   "id": "3b0be4ef",
   "metadata": {},
   "outputs": [
    {
     "data": {
      "text/plain": [
       "(240, 1)"
      ]
     },
     "execution_count": 11,
     "metadata": {},
     "output_type": "execute_result"
    }
   ],
   "source": [
    "#train-test split\n",
    "train_data=final_dataset[0:987]\n",
    "valid_data=final_dataset[987:]\n",
    "valid_data.shape"
   ]
  },
  {
   "cell_type": "code",
   "execution_count": 12,
   "id": "23f80110",
   "metadata": {},
   "outputs": [],
   "source": [
    "#now model can be sensitive so normalise values via scaler\n",
    "scaler=MinMaxScaler(feature_range=(0,1))\n",
    "scaled_data=scaler.fit_transform(final_dataset)"
   ]
  },
  {
   "cell_type": "code",
   "execution_count": 13,
   "id": "31a88fa9",
   "metadata": {},
   "outputs": [],
   "source": [
    "x_train_data,y_train_data=[],[]\n",
    "## here for loop will be executed for 60 to 986 times\n",
    "for i in range(60,len(train_data)):\n",
    "    x_train_data.append(scaled_data[i-60:i])  ##here o to 60 will be added\n",
    "    y_train_data.append(scaled_data[i])       ##here, 61st price will be added"
   ]
  },
  {
   "cell_type": "code",
   "execution_count": 14,
   "id": "25ec07a0",
   "metadata": {},
   "outputs": [
    {
     "data": {
      "text/plain": [
       "927"
      ]
     },
     "execution_count": 14,
     "metadata": {},
     "output_type": "execute_result"
    }
   ],
   "source": [
    "len(y_train_data)"
   ]
  },
  {
   "cell_type": "code",
   "execution_count": 15,
   "id": "20a5fb15",
   "metadata": {},
   "outputs": [
    {
     "data": {
      "text/plain": [
       "(927, 60, 1)"
      ]
     },
     "execution_count": 15,
     "metadata": {},
     "output_type": "execute_result"
    }
   ],
   "source": [
    "x_train_data,y_train_data=np.array(x_train_data),np.array(y_train_data)\n",
    "x_train_data.shape"
   ]
  },
  {
   "cell_type": "code",
   "execution_count": 16,
   "id": "0ed7c6e1",
   "metadata": {},
   "outputs": [
    {
     "data": {
      "text/plain": [
       "(927, 60, 1)"
      ]
     },
     "execution_count": 16,
     "metadata": {},
     "output_type": "execute_result"
    }
   ],
   "source": [
    "x_train_data=np.reshape(x_train_data,(x_train_data.shape[0],x_train_data.shape[1],1))\n",
    "x_train_data.shape"
   ]
  },
  {
   "cell_type": "code",
   "execution_count": 17,
   "id": "789dc1ef",
   "metadata": {},
   "outputs": [],
   "source": [
    "lstm_model=Sequential()\n",
    "lstm_model.add(LSTM(units=50,return_sequences=True,input_shape=(x_train_data.shape[1],1)))\n",
    "lstm_model.add(LSTM(units=50))\n",
    "lstm_model.add(Dense(1))"
   ]
  },
  {
   "cell_type": "code",
   "execution_count": 18,
   "id": "b3d1af8c",
   "metadata": {},
   "outputs": [
    {
     "name": "stdout",
     "output_type": "stream",
     "text": [
      "927/927 - 19s - loss: 0.0032 - 19s/epoch - 20ms/step\n"
     ]
    },
    {
     "data": {
      "text/plain": [
       "<keras.callbacks.History at 0x1b3da807df0>"
      ]
     },
     "execution_count": 18,
     "metadata": {},
     "output_type": "execute_result"
    }
   ],
   "source": [
    "lstm_model.compile(loss='mean_squared_error',optimizer='adam')\n",
    "lstm_model.fit(x_train_data,y_train_data,epochs=1,batch_size=1,verbose=2)"
   ]
  },
  {
   "cell_type": "code",
   "execution_count": 19,
   "id": "8a438669",
   "metadata": {},
   "outputs": [
    {
     "data": {
      "text/plain": [
       "(300, 1)"
      ]
     },
     "execution_count": 19,
     "metadata": {},
     "output_type": "execute_result"
    }
   ],
   "source": [
    "inputs_data=new_dataset[len(new_dataset)-len(valid_data)-60:].values\n",
    "inputs_data=inputs_data.reshape(-1,1)\n",
    "inputs_data=scaler.transform(inputs_data)\n",
    "len(inputs_data)\n",
    "inputs_data.shape"
   ]
  },
  {
   "cell_type": "code",
   "execution_count": 20,
   "id": "43c5bc40",
   "metadata": {},
   "outputs": [
    {
     "data": {
      "text/plain": [
       "(300, 1)"
      ]
     },
     "execution_count": 20,
     "metadata": {},
     "output_type": "execute_result"
    }
   ],
   "source": [
    "inputs_data.shape"
   ]
  },
  {
   "cell_type": "code",
   "execution_count": 21,
   "id": "1bc7cfbc",
   "metadata": {},
   "outputs": [
    {
     "data": {
      "text/plain": [
       "(240, 60, 1)"
      ]
     },
     "execution_count": 21,
     "metadata": {},
     "output_type": "execute_result"
    }
   ],
   "source": [
    "X_test=[]\n",
    "for i in range(60,len(inputs_data)):\n",
    "    X_test.append(inputs_data[i-60:i])\n",
    "X_test=np.array(X_test)\n",
    "X_test.shape"
   ]
  },
  {
   "cell_type": "code",
   "execution_count": 22,
   "id": "a2d7cec5",
   "metadata": {},
   "outputs": [
    {
     "name": "stdout",
     "output_type": "stream",
     "text": [
      "8/8 [==============================] - 1s 15ms/step\n"
     ]
    }
   ],
   "source": [
    "X_test=np.reshape(X_test,(X_test.shape[0],X_test.shape[1],1))\n",
    "closing_price=lstm_model.predict(X_test)\n",
    "closing_price=scaler.inverse_transform(closing_price)"
   ]
  },
  {
   "cell_type": "code",
   "execution_count": 23,
   "id": "e3fa77ad",
   "metadata": {},
   "outputs": [
    {
     "data": {
      "text/plain": [
       "240"
      ]
     },
     "execution_count": 23,
     "metadata": {},
     "output_type": "execute_result"
    }
   ],
   "source": [
    "len(closing_price)"
   ]
  },
  {
   "cell_type": "code",
   "execution_count": 24,
   "id": "2af62c65",
   "metadata": {},
   "outputs": [
    {
     "name": "stderr",
     "output_type": "stream",
     "text": [
      "C:\\Users\\tanma\\AppData\\Local\\Temp\\ipykernel_19756\\4128311284.py:3: SettingWithCopyWarning: \n",
      "A value is trying to be set on a copy of a slice from a DataFrame.\n",
      "Try using .loc[row_indexer,col_indexer] = value instead\n",
      "\n",
      "See the caveats in the documentation: https://pandas.pydata.org/pandas-docs/stable/user_guide/indexing.html#returning-a-view-versus-a-copy\n",
      "  valid_data['Predictions']=closing_price\n"
     ]
    },
    {
     "data": {
      "text/plain": [
       "[<matplotlib.lines.Line2D at 0x1b3e08e16d0>,\n",
       " <matplotlib.lines.Line2D at 0x1b3e08e1760>]"
      ]
     },
     "execution_count": 24,
     "metadata": {},
     "output_type": "execute_result"
    },
    {
     "data": {
      "image/png": "[encoded data removed]",
      "text/plain": [
       "<Figure size 864x360 with 1 Axes>"
      ]
     },
     "metadata": {
      "needs_background": "light"
     },
     "output_type": "display_data"
    }
   ],
   "source": [
    "train_data=new_dataset[:987]\n",
    "valid_data=new_dataset[987:]\n",
    "valid_data['Predictions']=closing_price\n",
    "plt.plot(train_data[\"Close\"])\n",
    "plt.plot(valid_data[['Close',\"Predictions\"]])"
   ]
  },
  {
   "cell_type": "code",
   "execution_count": 25,
   "id": "1adeaa8b",
   "metadata": {},
   "outputs": [],
   "source": [
    "#closing_price"
   ]
  },
  {
   "cell_type": "code",
   "execution_count": 26,
   "id": "16d07115",
   "metadata": {},
   "outputs": [
    {
     "data": {
      "text/plain": [
       "array([[[0.68314366],\n",
       "        [0.66625279],\n",
       "        [0.68583491],\n",
       "        [0.71479372],\n",
       "        [0.70911133],\n",
       "        [0.67424176],\n",
       "        [0.71374522],\n",
       "        [0.71256117],\n",
       "        [0.71431059],\n",
       "        [0.71633979],\n",
       "        [0.74739975],\n",
       "        [0.76871507],\n",
       "        [0.77749972],\n",
       "        [0.7635383 ],\n",
       "        [0.76902345],\n",
       "        [0.76872936],\n",
       "        [0.75480713],\n",
       "        [0.75625234],\n",
       "        [0.74333331],\n",
       "        [0.74128355],\n",
       "        [0.74701122],\n",
       "        [0.72227305],\n",
       "        [0.67795067],\n",
       "        [0.67406508],\n",
       "        [0.67520191],\n",
       "        [0.6455193 ],\n",
       "        [0.65069807],\n",
       "        [0.64830299],\n",
       "        [0.66914738],\n",
       "        [0.65490232],\n",
       "        [0.66681398],\n",
       "        [0.68706217],\n",
       "        [0.69461957],\n",
       "        [0.68767893],\n",
       "        [0.67236064],\n",
       "        [0.67874218],\n",
       "        [0.68344385],\n",
       "        [0.69995036],\n",
       "        [0.6948107 ],\n",
       "        [0.71571275],\n",
       "        [0.74022076],\n",
       "        [0.74859842],\n",
       "        [0.76280847],\n",
       "        [0.74893555],\n",
       "        [0.73641741],\n",
       "        [0.72915603],\n",
       "        [0.73044914],\n",
       "        [0.75824653],\n",
       "        [0.77311671],\n",
       "        [0.78346799],\n",
       "        [0.79287968],\n",
       "        [0.81499872],\n",
       "        [0.81448266],\n",
       "        [0.80141153],\n",
       "        [0.8168408 ],\n",
       "        [0.84128088],\n",
       "        [0.84593741],\n",
       "        [0.86286956],\n",
       "        [0.86783656],\n",
       "        [0.86640773]]])"
      ]
     },
     "execution_count": 26,
     "metadata": {},
     "output_type": "execute_result"
    }
   ],
   "source": [
    "Z_test=inputs_data[-60:]\n",
    "#Z_test=np.array(Z_test)\n",
    "#Z_test=np.reshape(Z_test,(Z_test.shape[0],Z_test.shape[1],1))\n",
    "#a=Z_test.transpose()\n",
    "Z_test=Z_test.T\n",
    "Z_test=np.array(Z_test)\n",
    "Z_test=np.reshape(Z_test,(Z_test.shape[0],Z_test.shape[1],1))\n",
    "Z_test"
   ]
  },
  {
   "cell_type": "code",
   "execution_count": 27,
   "id": "8fec8e5e",
   "metadata": {},
   "outputs": [
    {
     "name": "stdout",
     "output_type": "stream",
     "text": [
      "1/1 [==============================] - 0s 24ms/step\n"
     ]
    },
    {
     "data": {
      "text/plain": [
       "array([[36634.312]], dtype=float32)"
      ]
     },
     "execution_count": 27,
     "metadata": {},
     "output_type": "execute_result"
    }
   ],
   "source": [
    "Z_test=inputs_data[-60:]\n",
    "#Z_test=np.array(Z_test)\n",
    "#Z_test=np.reshape(Z_test,(Z_test.shape[0],Z_test.shape[1],1))\n",
    "#a=Z_test.transpose()\n",
    "Z_test=Z_test.T\n",
    "Z_test=np.array(Z_test)\n",
    "Z_test=np.reshape(Z_test,(Z_test.shape[0],Z_test.shape[1],1))\n",
    "Z_test\n",
    "\n",
    "\n",
    "closing_price01=lstm_model.predict(Z_test)\n",
    "closing_price01\n",
    "closing_price01=scaler.inverse_transform(closing_price01)\n",
    "closing_price01"
   ]
  },
  {
   "cell_type": "code",
   "execution_count": null,
   "id": "55bff61d",
   "metadata": {},
   "outputs": [],
   "source": []
  }
 ],
 "metadata": {
  "kernelspec": {
   "display_name": "Python 3 (ipykernel)",
   "language": "python",
   "name": "python3"
  },
  "language_info": {
   "codemirror_mode": {
    "name": "ipython",
    "version": 3
   },
   "file_extension": ".py",
   "mimetype": "text/x-python",
   "name": "python",
   "nbconvert_exporter": "python",
   "pygments_lexer": "ipython3",
   "version": "3.9.12"
  }
 },
 "nbformat": 4,
 "nbformat_minor": 5
}
